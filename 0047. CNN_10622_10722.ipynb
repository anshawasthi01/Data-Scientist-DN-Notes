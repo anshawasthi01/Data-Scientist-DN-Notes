{
 "cells": [
  {
   "cell_type": "code",
   "execution_count": 25,
   "id": "aec61f10",
   "metadata": {},
   "outputs": [],
   "source": [
    "import tensorflow as tf\n",
    "from tensorflow.keras import datasets, layers, models\n",
    "import matplotlib.pyplot as plt\n",
    "import numpy as np\n"
   ]
  },
  {
   "cell_type": "code",
   "execution_count": 26,
   "id": "a7729449",
   "metadata": {},
   "outputs": [],
   "source": [
    "(x_train,y_train),(x_test,y_test) = datasets.cifar10.load_data()"
   ]
  },
  {
   "cell_type": "code",
   "execution_count": 4,
   "id": "8099e853",
   "metadata": {},
   "outputs": [
    {
     "data": {
      "text/plain": [
       "(50000, 32, 32, 3)"
      ]
     },
     "execution_count": 4,
     "metadata": {},
     "output_type": "execute_result"
    }
   ],
   "source": [
    "x_train.shape"
   ]
  },
  {
   "cell_type": "code",
   "execution_count": 27,
   "id": "fb1a0166",
   "metadata": {},
   "outputs": [
    {
     "data": {
      "text/plain": [
       "(50000, 1)"
      ]
     },
     "execution_count": 27,
     "metadata": {},
     "output_type": "execute_result"
    }
   ],
   "source": [
    "y_train.shape"
   ]
  },
  {
   "cell_type": "code",
   "execution_count": 28,
   "id": "385af4d4",
   "metadata": {},
   "outputs": [
    {
     "data": {
      "text/plain": [
       "(10000, 32, 32, 3)"
      ]
     },
     "execution_count": 28,
     "metadata": {},
     "output_type": "execute_result"
    }
   ],
   "source": [
    "x_test.shape"
   ]
  },
  {
   "cell_type": "code",
   "execution_count": 29,
   "id": "04981996",
   "metadata": {},
   "outputs": [
    {
     "data": {
      "text/plain": [
       "(10000, 1)"
      ]
     },
     "execution_count": 29,
     "metadata": {},
     "output_type": "execute_result"
    }
   ],
   "source": [
    "y_test.shape"
   ]
  },
  {
   "cell_type": "code",
   "execution_count": 30,
   "id": "2fec29d2",
   "metadata": {},
   "outputs": [
    {
     "data": {
      "text/plain": [
       "array([[6],\n",
       "       [9],\n",
       "       [9],\n",
       "       ...,\n",
       "       [9],\n",
       "       [1],\n",
       "       [1]], dtype=uint8)"
      ]
     },
     "execution_count": 30,
     "metadata": {},
     "output_type": "execute_result"
    }
   ],
   "source": [
    "y_train"
   ]
  },
  {
   "cell_type": "code",
   "execution_count": 31,
   "id": "7f2ae67e",
   "metadata": {},
   "outputs": [],
   "source": [
    "y_train = y_train.reshape(-1,)"
   ]
  },
  {
   "cell_type": "code",
   "execution_count": 32,
   "id": "94b31f5f",
   "metadata": {},
   "outputs": [
    {
     "data": {
      "text/plain": [
       "array([6, 9, 9, ..., 9, 1, 1], dtype=uint8)"
      ]
     },
     "execution_count": 32,
     "metadata": {},
     "output_type": "execute_result"
    }
   ],
   "source": [
    "y_train"
   ]
  },
  {
   "cell_type": "code",
   "execution_count": 33,
   "id": "f4112f8b",
   "metadata": {},
   "outputs": [
    {
     "data": {
      "text/plain": [
       "<matplotlib.image.AxesImage at 0x13230ddd2e0>"
      ]
     },
     "execution_count": 33,
     "metadata": {},
     "output_type": "execute_result"
    },
    {
     "data": {
      "image/png": "[encoded data removed]",
      "text/plain": [
       "<Figure size 864x144 with 1 Axes>"
      ]
     },
     "metadata": {
      "needs_background": "light"
     },
     "output_type": "display_data"
    }
   ],
   "source": [
    "plt.figure(figsize=(12,2))\n",
    "plt.imshow(x_train[0])"
   ]
  },
  {
   "cell_type": "code",
   "execution_count": 14,
   "id": "0eaed747",
   "metadata": {},
   "outputs": [
    {
     "data": {
      "text/plain": [
       "<matplotlib.image.AxesImage at 0x131d56bc490>"
      ]
     },
     "execution_count": 14,
     "metadata": {},
     "output_type": "execute_result"
    },
    {
     "data": {
      "image/png": "[encoded data removed]",
      "text/plain": [
       "<Figure size 864x144 with 1 Axes>"
      ]
     },
     "metadata": {
      "needs_background": "light"
     },
     "output_type": "display_data"
    }
   ],
   "source": [
    "plt.figure(figsize=(12,2))\n",
    "plt.imshow(x_train[1])"
   ]
  },
  {
   "cell_type": "code",
   "execution_count": 35,
   "id": "b8a108b4",
   "metadata": {},
   "outputs": [
    {
     "data": {
      "text/plain": [
       "9"
      ]
     },
     "execution_count": 35,
     "metadata": {},
     "output_type": "execute_result"
    }
   ],
   "source": [
    "y_train[1]"
   ]
  },
  {
   "cell_type": "code",
   "execution_count": 36,
   "id": "f8f85a7e",
   "metadata": {},
   "outputs": [],
   "source": [
    "x_train = x_train/255"
   ]
  },
  {
   "cell_type": "code",
   "execution_count": 37,
   "id": "fd4fa2dd",
   "metadata": {},
   "outputs": [],
   "source": [
    "x_test = x_test/255"
   ]
  },
  {
   "cell_type": "code",
   "execution_count": 38,
   "id": "86fb65a7",
   "metadata": {},
   "outputs": [
    {
     "data": {
      "text/plain": [
       "array([[0.23137255, 0.24313725, 0.24705882],\n",
       "       [0.16862745, 0.18039216, 0.17647059],\n",
       "       [0.19607843, 0.18823529, 0.16862745],\n",
       "       [0.26666667, 0.21176471, 0.16470588],\n",
       "       [0.38431373, 0.28627451, 0.20392157],\n",
       "       [0.46666667, 0.35686275, 0.24705882],\n",
       "       [0.54509804, 0.41960784, 0.29411765],\n",
       "       [0.56862745, 0.43137255, 0.31372549],\n",
       "       [0.58431373, 0.45882353, 0.34901961],\n",
       "       [0.58431373, 0.47058824, 0.36470588],\n",
       "       [0.51372549, 0.40392157, 0.30196078],\n",
       "       [0.49019608, 0.38823529, 0.29803922],\n",
       "       [0.55686275, 0.45098039, 0.35686275],\n",
       "       [0.56470588, 0.43921569, 0.3372549 ],\n",
       "       [0.5372549 , 0.41176471, 0.30980392],\n",
       "       [0.50588235, 0.38039216, 0.27843137],\n",
       "       [0.5372549 , 0.41568627, 0.30980392],\n",
       "       [0.5254902 , 0.41568627, 0.29803922],\n",
       "       [0.48627451, 0.38039216, 0.25098039],\n",
       "       [0.54509804, 0.44313725, 0.30588235],\n",
       "       [0.54509804, 0.43921569, 0.29411765],\n",
       "       [0.52156863, 0.41176471, 0.27058824],\n",
       "       [0.53333333, 0.41176471, 0.29019608],\n",
       "       [0.54509804, 0.42352941, 0.30196078],\n",
       "       [0.59607843, 0.47058824, 0.34901961],\n",
       "       [0.63921569, 0.51372549, 0.39215686],\n",
       "       [0.65882353, 0.53333333, 0.42352941],\n",
       "       [0.62352941, 0.50588235, 0.4       ],\n",
       "       [0.61960784, 0.50980392, 0.40784314],\n",
       "       [0.61960784, 0.51764706, 0.42352941],\n",
       "       [0.59607843, 0.49019608, 0.4       ],\n",
       "       [0.58039216, 0.48627451, 0.40392157]])"
      ]
     },
     "execution_count": 38,
     "metadata": {},
     "output_type": "execute_result"
    }
   ],
   "source": [
    "x_train[0][0]"
   ]
  },
  {
   "cell_type": "code",
   "execution_count": 40,
   "id": "e26c4a65",
   "metadata": {},
   "outputs": [],
   "source": [
    "####\n",
    "ann = models.Sequential([layers.Flatten(input_shape=(32,32,3)),layers.Dense(4000,activation='relu'),\n",
    "                       layers.Dense(2000,activation='relu'),layers.Dense(10,activation='sigmoid')])"
   ]
  },
  {
   "cell_type": "code",
   "execution_count": 41,
   "id": "283309a7",
   "metadata": {},
   "outputs": [],
   "source": [
    "ann.compile(optimizer='adam',loss='sparse_categorical_crossentropy',metrics=['accuracy'])"
   ]
  },
  {
   "cell_type": "code",
   "execution_count": 42,
   "id": "9f80b64b",
   "metadata": {},
   "outputs": [
    {
     "name": "stdout",
     "output_type": "stream",
     "text": [
      "Epoch 1/10\n",
      "1563/1563 [==============================] - 238s 151ms/step - loss: 1.9131 - accuracy: 0.3241\n",
      "Epoch 2/10\n",
      "1563/1563 [==============================] - 170s 109ms/step - loss: 1.6793 - accuracy: 0.3971\n",
      "Epoch 3/10\n",
      "1563/1563 [==============================] - 166s 106ms/step - loss: 1.6009 - accuracy: 0.4290\n",
      "Epoch 4/10\n",
      "1563/1563 [==============================] - 169s 108ms/step - loss: 1.5494 - accuracy: 0.4438\n",
      "Epoch 5/10\n",
      "1563/1563 [==============================] - 171s 110ms/step - loss: 1.5128 - accuracy: 0.4575\n",
      "Epoch 6/10\n",
      "1563/1563 [==============================] - 171s 109ms/step - loss: 1.4897 - accuracy: 0.4683\n",
      "Epoch 7/10\n",
      "1563/1563 [==============================] - 170s 108ms/step - loss: 1.4629 - accuracy: 0.4790\n",
      "Epoch 8/10\n",
      "1563/1563 [==============================] - 162s 104ms/step - loss: 1.4428 - accuracy: 0.4851\n",
      "Epoch 9/10\n",
      "1563/1563 [==============================] - 179s 115ms/step - loss: 1.4252 - accuracy: 0.4896\n",
      "Epoch 10/10\n",
      "1563/1563 [==============================] - 162s 104ms/step - loss: 1.4096 - accuracy: 0.4950\n"
     ]
    },
    {
     "data": {
      "text/plain": [
       "<keras.callbacks.History at 0x1321eb66040>"
      ]
     },
     "execution_count": 42,
     "metadata": {},
     "output_type": "execute_result"
    }
   ],
   "source": [
    "ann.fit(x_train,y_train,epochs=10)"
   ]
  },
  {
   "cell_type": "code",
   "execution_count": 44,
   "id": "b685c5f1",
   "metadata": {},
   "outputs": [],
   "source": [
    "## build a cnn\n",
    "cnn = models.Sequential([layers.Conv2D(filters=64,kernel_size=(3,3),activation='relu',input_shape=(32,32,3)),\n",
    "                         layers.MaxPooling2D((2,2)),\n",
    "                         layers.Conv2D(filters=32,kernel_size=(3,3),activation='relu'),\n",
    "                           layers.MaxPooling2D((2,2)),  \n",
    "                         layers.Dropout((0.2)),\n",
    "                         layers.Flatten(),\n",
    "                         layers.Dense(64,activation='relu'),\n",
    "                         layers.Dense(32,activation='relu'),\n",
    "                         layers.Dense(10,activation='softmax')\n",
    "                                      \n",
    "                                      \n",
    "                                      \n",
    "                                      ])"
   ]
  },
  {
   "cell_type": "code",
   "execution_count": 45,
   "id": "a1aed639",
   "metadata": {},
   "outputs": [],
   "source": [
    "cnn.compile(optimizer='adam',loss='sparse_categorical_crossentropy',metrics=['accuracy'] )"
   ]
  },
  {
   "cell_type": "code",
   "execution_count": 46,
   "id": "cb11fb14",
   "metadata": {},
   "outputs": [
    {
     "name": "stdout",
     "output_type": "stream",
     "text": [
      "Epoch 1/20\n",
      "1563/1563 [==============================] - 64s 40ms/step - loss: 1.5718 - accuracy: 0.4287\n",
      "Epoch 2/20\n",
      "1563/1563 [==============================] - 61s 39ms/step - loss: 1.2316 - accuracy: 0.5611\n",
      "Epoch 3/20\n",
      "1563/1563 [==============================] - 59s 38ms/step - loss: 1.0976 - accuracy: 0.6137\n",
      "Epoch 4/20\n",
      "1563/1563 [==============================] - 59s 38ms/step - loss: 1.0203 - accuracy: 0.6402\n",
      "Epoch 5/20\n",
      "1563/1563 [==============================] - 59s 38ms/step - loss: 0.9610 - accuracy: 0.6652\n",
      "Epoch 6/20\n",
      "1563/1563 [==============================] - 58s 37ms/step - loss: 0.9092 - accuracy: 0.6788\n",
      "Epoch 7/20\n",
      "1563/1563 [==============================] - 59s 37ms/step - loss: 0.8727 - accuracy: 0.6920\n",
      "Epoch 8/20\n",
      "1563/1563 [==============================] - 58s 37ms/step - loss: 0.8440 - accuracy: 0.7021\n",
      "Epoch 9/20\n",
      "1563/1563 [==============================] - 59s 38ms/step - loss: 0.8136 - accuracy: 0.7112\n",
      "Epoch 10/20\n",
      "1563/1563 [==============================] - 59s 38ms/step - loss: 0.7953 - accuracy: 0.7219\n",
      "Epoch 11/20\n",
      "1563/1563 [==============================] - 58s 37ms/step - loss: 0.7652 - accuracy: 0.7294\n",
      "Epoch 12/20\n",
      "1563/1563 [==============================] - 58s 37ms/step - loss: 0.7446 - accuracy: 0.7367\n",
      "Epoch 13/20\n",
      "1563/1563 [==============================] - 58s 37ms/step - loss: 0.7259 - accuracy: 0.7440\n",
      "Epoch 14/20\n",
      "1563/1563 [==============================] - 60s 38ms/step - loss: 0.7114 - accuracy: 0.7494\n",
      "Epoch 15/20\n",
      "1563/1563 [==============================] - 59s 38ms/step - loss: 0.6928 - accuracy: 0.7554\n",
      "Epoch 16/20\n",
      "1563/1563 [==============================] - 60s 38ms/step - loss: 0.6791 - accuracy: 0.7600\n",
      "Epoch 17/20\n",
      "1563/1563 [==============================] - 59s 38ms/step - loss: 0.6630 - accuracy: 0.7639\n",
      "Epoch 18/20\n",
      "1563/1563 [==============================] - 61s 39ms/step - loss: 0.6534 - accuracy: 0.7710\n",
      "Epoch 19/20\n",
      "1563/1563 [==============================] - 60s 38ms/step - loss: 0.6392 - accuracy: 0.7744\n",
      "Epoch 20/20\n",
      "1563/1563 [==============================] - 61s 39ms/step - loss: 0.6256 - accuracy: 0.7779\n"
     ]
    },
    {
     "data": {
      "text/plain": [
       "<keras.callbacks.History at 0x131a4b96f10>"
      ]
     },
     "execution_count": 46,
     "metadata": {},
     "output_type": "execute_result"
    }
   ],
   "source": [
    "cnn.fit(x_train,y_train,epochs=20)"
   ]
  },
  {
   "cell_type": "code",
   "execution_count": 47,
   "id": "211560bb",
   "metadata": {},
   "outputs": [],
   "source": [
    "y_test = y_test.reshape(-1,)"
   ]
  },
  {
   "cell_type": "code",
   "execution_count": 48,
   "id": "6e489db3",
   "metadata": {},
   "outputs": [
    {
     "name": "stdout",
     "output_type": "stream",
     "text": [
      "313/313 [==============================] - 4s 9ms/step - loss: 0.8264 - accuracy: 0.7210\n"
     ]
    },
    {
     "data": {
      "text/plain": [
       "[0.8264323472976685, 0.7210000157356262]"
      ]
     },
     "execution_count": 48,
     "metadata": {},
     "output_type": "execute_result"
    }
   ],
   "source": [
    "cnn.evaluate(x_test,y_test)"
   ]
  },
  {
   "cell_type": "code",
   "execution_count": 50,
   "id": "a752a695",
   "metadata": {},
   "outputs": [
    {
     "name": "stdout",
     "output_type": "stream",
     "text": [
      "313/313 [==============================] - 3s 9ms/step\n"
     ]
    }
   ],
   "source": [
    "y_pred = cnn.predict(x_test)"
   ]
  },
  {
   "cell_type": "code",
   "execution_count": 55,
   "id": "54b7cb48",
   "metadata": {},
   "outputs": [],
   "source": [
    "y_pred = np.argmax(y_pred,axis=1)"
   ]
  },
  {
   "cell_type": "code",
   "execution_count": 56,
   "id": "8ae319e2",
   "metadata": {},
   "outputs": [
    {
     "name": "stdout",
     "output_type": "stream",
     "text": [
      "              precision    recall  f1-score   support\n",
      "\n",
      "           0       0.70      0.80      0.74      1000\n",
      "           1       0.84      0.85      0.85      1000\n",
      "           2       0.61      0.60      0.61      1000\n",
      "           3       0.55      0.48      0.51      1000\n",
      "           4       0.72      0.64      0.68      1000\n",
      "           5       0.61      0.61      0.61      1000\n",
      "           6       0.78      0.80      0.79      1000\n",
      "           7       0.80      0.74      0.77      1000\n",
      "           8       0.78      0.87      0.82      1000\n",
      "           9       0.81      0.81      0.81      1000\n",
      "\n",
      "    accuracy                           0.72     10000\n",
      "   macro avg       0.72      0.72      0.72     10000\n",
      "weighted avg       0.72      0.72      0.72     10000\n",
      "\n"
     ]
    }
   ],
   "source": [
    "from sklearn.metrics import classification_report\n",
    "print(classification_report(y_test,y_pred))"
   ]
  },
  {
   "cell_type": "code",
   "execution_count": null,
   "id": "a9223108",
   "metadata": {},
   "outputs": [],
   "source": []
  }
 ],
 "metadata": {
  "kernelspec": {
   "display_name": "Python 3 (ipykernel)",
   "language": "python",
   "name": "python3"
  },
  "language_info": {
   "codemirror_mode": {
    "name": "ipython",
    "version": 3
   },
   "file_extension": ".py",
   "mimetype": "text/x-python",
   "name": "python",
   "nbconvert_exporter": "python",
   "pygments_lexer": "ipython3",
   "version": "3.9.12"
  }
 },
 "nbformat": 4,
 "nbformat_minor": 5
}
